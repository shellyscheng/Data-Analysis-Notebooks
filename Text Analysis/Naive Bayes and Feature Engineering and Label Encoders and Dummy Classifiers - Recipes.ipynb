{
 "cells": [
  {
   "cell_type": "markdown",
   "metadata": {},
   "source": [
    "# Naive Bayes, meet Naive Humans\n",
    "\n",
    "> This is a story of how you can be led astray by machine learning, courtesy me being pissy about [FOIA Predictor](https://datadotworld.shinyapps.io/foia_shiny_app/), which was inspired by [some work by CJS students](https://www.cjr.org/analysis/foia-request-how-to-study.php)\n",
    "\n",
    "> Also let's talk about the [fake news challenge code](https://github.com/FakeNewsChallenge/fnc-1-baseline/blob/master/feature_engineering.py)\n",
    "\n",
    "I love cooking, but I hate actually reading a recipe to see what cuisine it is. I only cook... italian food, let's say. If only there were a machine that could process the recipe for me!\n",
    "\n",
    "\"Soma, Soma!\" you exclaim. \"We just learned about **Naive Bayes**, I bet you can use it to automatically classify recipes!\"\n",
    "\n",
    "Okay, cool, I just machines to accomplish anything: **let's do it!**"
   ]
  },
  {
   "cell_type": "markdown",
   "metadata": {},
   "source": [
    "## Preparing our data\n",
    "\n",
    "### Step 1.1: Read in our data\n",
    "\n",
    "This time it's just a csv."
   ]
  },
  {
   "cell_type": "code",
   "execution_count": 1,
   "metadata": {},
   "outputs": [
    {
     "data": {
      "text/html": [
       "<div>\n",
       "<style>\n",
       "    .dataframe thead tr:only-child th {\n",
       "        text-align: right;\n",
       "    }\n",
       "\n",
       "    .dataframe thead th {\n",
       "        text-align: left;\n",
       "    }\n",
       "\n",
       "    .dataframe tbody tr th {\n",
       "        vertical-align: top;\n",
       "    }\n",
       "</style>\n",
       "<table border=\"1\" class=\"dataframe\">\n",
       "  <thead>\n",
       "    <tr style=\"text-align: right;\">\n",
       "      <th></th>\n",
       "      <th>cuisine</th>\n",
       "      <th>id</th>\n",
       "      <th>ingredient_list</th>\n",
       "    </tr>\n",
       "  </thead>\n",
       "  <tbody>\n",
       "    <tr>\n",
       "      <th>0</th>\n",
       "      <td>greek</td>\n",
       "      <td>10259</td>\n",
       "      <td>romaine lettuce, black olives, grape tomatoes,...</td>\n",
       "    </tr>\n",
       "    <tr>\n",
       "      <th>1</th>\n",
       "      <td>southern_us</td>\n",
       "      <td>25693</td>\n",
       "      <td>plain flour, ground pepper, salt, tomatoes, gr...</td>\n",
       "    </tr>\n",
       "    <tr>\n",
       "      <th>2</th>\n",
       "      <td>filipino</td>\n",
       "      <td>20130</td>\n",
       "      <td>eggs, pepper, salt, mayonaise, cooking oil, gr...</td>\n",
       "    </tr>\n",
       "    <tr>\n",
       "      <th>3</th>\n",
       "      <td>indian</td>\n",
       "      <td>22213</td>\n",
       "      <td>water, vegetable oil, wheat, salt</td>\n",
       "    </tr>\n",
       "    <tr>\n",
       "      <th>4</th>\n",
       "      <td>indian</td>\n",
       "      <td>13162</td>\n",
       "      <td>black pepper, shallots, cornflour, cayenne pep...</td>\n",
       "    </tr>\n",
       "  </tbody>\n",
       "</table>\n",
       "</div>"
      ],
      "text/plain": [
       "       cuisine     id                                    ingredient_list\n",
       "0        greek  10259  romaine lettuce, black olives, grape tomatoes,...\n",
       "1  southern_us  25693  plain flour, ground pepper, salt, tomatoes, gr...\n",
       "2     filipino  20130  eggs, pepper, salt, mayonaise, cooking oil, gr...\n",
       "3       indian  22213                  water, vegetable oil, wheat, salt\n",
       "4       indian  13162  black pepper, shallots, cornflour, cayenne pep..."
      ]
     },
     "execution_count": 1,
     "metadata": {},
     "output_type": "execute_result"
    }
   ],
   "source": [
    "import pandas as pd\n",
    "\n",
    "df = pd.read_csv(\"recipes.csv\")\n",
    "df.head()"
   ]
  },
  {
   "cell_type": "markdown",
   "metadata": {},
   "source": [
    "### Step 1.2: Creating a label column\n",
    "\n",
    "It needs to be a number, right? Let's say everything with a cuisine of \"italian\" is going to be `1` and everything with another cuisine is going to be `0`."
   ]
  },
  {
   "cell_type": "code",
   "execution_count": 3,
   "metadata": {
    "collapsed": true
   },
   "outputs": [],
   "source": [
    "df['is_italian'] = (df['cuisine'] == 'italian').astype(int)"
   ]
  },
  {
   "cell_type": "code",
   "execution_count": 5,
   "metadata": {},
   "outputs": [
    {
     "data": {
      "text/html": [
       "<div>\n",
       "<style>\n",
       "    .dataframe thead tr:only-child th {\n",
       "        text-align: right;\n",
       "    }\n",
       "\n",
       "    .dataframe thead th {\n",
       "        text-align: left;\n",
       "    }\n",
       "\n",
       "    .dataframe tbody tr th {\n",
       "        vertical-align: top;\n",
       "    }\n",
       "</style>\n",
       "<table border=\"1\" class=\"dataframe\">\n",
       "  <thead>\n",
       "    <tr style=\"text-align: right;\">\n",
       "      <th></th>\n",
       "      <th>cuisine</th>\n",
       "      <th>id</th>\n",
       "      <th>ingredient_list</th>\n",
       "      <th>is_italian</th>\n",
       "    </tr>\n",
       "  </thead>\n",
       "  <tbody>\n",
       "    <tr>\n",
       "      <th>7</th>\n",
       "      <td>italian</td>\n",
       "      <td>3735</td>\n",
       "      <td>sugar, pistachio nuts, white almond bark, flou...</td>\n",
       "      <td>1</td>\n",
       "    </tr>\n",
       "    <tr>\n",
       "      <th>9</th>\n",
       "      <td>italian</td>\n",
       "      <td>12734</td>\n",
       "      <td>chopped tomatoes, fresh basil, garlic, extra-v...</td>\n",
       "      <td>1</td>\n",
       "    </tr>\n",
       "    <tr>\n",
       "      <th>10</th>\n",
       "      <td>italian</td>\n",
       "      <td>5875</td>\n",
       "      <td>pimentos, sweet pepper, dried oregano, olive o...</td>\n",
       "      <td>1</td>\n",
       "    </tr>\n",
       "    <tr>\n",
       "      <th>12</th>\n",
       "      <td>italian</td>\n",
       "      <td>2698</td>\n",
       "      <td>Italian parsley leaves, walnuts, hot red peppe...</td>\n",
       "      <td>1</td>\n",
       "    </tr>\n",
       "  </tbody>\n",
       "</table>\n",
       "</div>"
      ],
      "text/plain": [
       "    cuisine     id                                    ingredient_list  \\\n",
       "7   italian   3735  sugar, pistachio nuts, white almond bark, flou...   \n",
       "9   italian  12734  chopped tomatoes, fresh basil, garlic, extra-v...   \n",
       "10  italian   5875  pimentos, sweet pepper, dried oregano, olive o...   \n",
       "12  italian   2698  Italian parsley leaves, walnuts, hot red peppe...   \n",
       "\n",
       "    is_italian  \n",
       "7            1  \n",
       "9            1  \n",
       "10           1  \n",
       "12           1  "
      ]
     },
     "execution_count": 5,
     "metadata": {},
     "output_type": "execute_result"
    }
   ],
   "source": [
    "df[df.is_italian == 1].head(4)"
   ]
  },
  {
   "cell_type": "markdown",
   "metadata": {},
   "source": [
    "### Step 1.3: Create our features dataframe\n",
    "\n",
    "I'm going to predict what cuisine our recipe is based on **only two ingredients**, because I know something about cooking.\n",
    "\n",
    "What are two ingredients that are very much about Italian food?"
   ]
  },
  {
   "cell_type": "code",
   "execution_count": 6,
   "metadata": {
    "scrolled": true
   },
   "outputs": [
    {
     "data": {
      "text/plain": [
       "0        1\n",
       "1        1\n",
       "2        0\n",
       "3        0\n",
       "4        0\n",
       "5        0\n",
       "6        0\n",
       "7        0\n",
       "8        0\n",
       "9        1\n",
       "10       0\n",
       "11       0\n",
       "12       0\n",
       "13       1\n",
       "14       0\n",
       "15       1\n",
       "16       0\n",
       "17       0\n",
       "18       0\n",
       "19       0\n",
       "20       0\n",
       "21       1\n",
       "22       0\n",
       "23       0\n",
       "24       0\n",
       "25       0\n",
       "26       1\n",
       "27       0\n",
       "28       0\n",
       "29       0\n",
       "        ..\n",
       "39744    0\n",
       "39745    0\n",
       "39746    1\n",
       "39747    0\n",
       "39748    0\n",
       "39749    1\n",
       "39750    0\n",
       "39751    0\n",
       "39752    0\n",
       "39753    0\n",
       "39754    0\n",
       "39755    1\n",
       "39756    0\n",
       "39757    0\n",
       "39758    0\n",
       "39759    0\n",
       "39760    0\n",
       "39761    0\n",
       "39762    0\n",
       "39763    0\n",
       "39764    1\n",
       "39765    0\n",
       "39766    0\n",
       "39767    0\n",
       "39768    0\n",
       "39769    0\n",
       "39770    0\n",
       "39771    0\n",
       "39772    0\n",
       "39773    1\n",
       "Name: ingredient_list, Length: 39774, dtype: int64"
      ]
     },
     "execution_count": 6,
     "metadata": {},
     "output_type": "execute_result"
    }
   ],
   "source": [
    "df.ingredient_list.str.contains(\"tomato\").astype(int)"
   ]
  },
  {
   "cell_type": "code",
   "execution_count": 8,
   "metadata": {},
   "outputs": [
    {
     "data": {
      "text/html": [
       "<div>\n",
       "<style>\n",
       "    .dataframe thead tr:only-child th {\n",
       "        text-align: right;\n",
       "    }\n",
       "\n",
       "    .dataframe thead th {\n",
       "        text-align: left;\n",
       "    }\n",
       "\n",
       "    .dataframe tbody tr th {\n",
       "        vertical-align: top;\n",
       "    }\n",
       "</style>\n",
       "<table border=\"1\" class=\"dataframe\">\n",
       "  <thead>\n",
       "    <tr style=\"text-align: right;\">\n",
       "      <th></th>\n",
       "      <th>has_olive_oil</th>\n",
       "      <th>has_soy_sauce</th>\n",
       "      <th>has_tomatoes</th>\n",
       "    </tr>\n",
       "  </thead>\n",
       "  <tbody>\n",
       "    <tr>\n",
       "      <th>0</th>\n",
       "      <td>0</td>\n",
       "      <td>0</td>\n",
       "      <td>1</td>\n",
       "    </tr>\n",
       "    <tr>\n",
       "      <th>1</th>\n",
       "      <td>0</td>\n",
       "      <td>0</td>\n",
       "      <td>1</td>\n",
       "    </tr>\n",
       "    <tr>\n",
       "      <th>2</th>\n",
       "      <td>0</td>\n",
       "      <td>1</td>\n",
       "      <td>0</td>\n",
       "    </tr>\n",
       "  </tbody>\n",
       "</table>\n",
       "</div>"
      ],
      "text/plain": [
       "   has_olive_oil  has_soy_sauce  has_tomatoes\n",
       "0              0              0             1\n",
       "1              0              0             1\n",
       "2              0              1             0"
      ]
     },
     "execution_count": 8,
     "metadata": {},
     "output_type": "execute_result"
    }
   ],
   "source": [
    "features_df = pd.DataFrame({\n",
    "#    'has_something': df.ingredient_list.blah blah blah\n",
    "    'has_tomatoes': df.ingredient_list.str.contains(\"tomato\").astype(int),\n",
    "    'has_olive_oil': df.ingredient_list.str.contains(\"olive oil\").astype(int),\n",
    "    'has_soy_sauce': df.ingredient_list.str.contains(\"soy sauce\").astype(int)\n",
    "})\n",
    "features_df.head(3)"
   ]
  },
  {
   "cell_type": "markdown",
   "metadata": {},
   "source": [
    "## Step 2: Using the classifier\n",
    "\n",
    "### Step 2.1: Import the classifier\n",
    "\n",
    "What kind of Naive Bayes classifier are we going to use?"
   ]
  },
  {
   "cell_type": "code",
   "execution_count": 10,
   "metadata": {},
   "outputs": [],
   "source": [
    "from sklearn.naive_bayes import BernoulliNB\n",
    "\n",
    "clf = BernoulliNB()"
   ]
  },
  {
   "cell_type": "markdown",
   "metadata": {},
   "source": [
    "### Step 2.2: Split our data into test and train data"
   ]
  },
  {
   "cell_type": "code",
   "execution_count": 12,
   "metadata": {},
   "outputs": [],
   "source": [
    "# train_test_split will split our data into two parts\n",
    "from sklearn.model_selection import train_test_split\n",
    "\n",
    "# Splitting into...\n",
    "# X = are all our features\n",
    "# y = are all our labels\n",
    "# X_train are our features to train on (80%)\n",
    "# y_train are our labels to train on (80%)\n",
    "# X_test are our features to test on (20%)\n",
    "# y_train are our labels to test on (20%)\n",
    "\n",
    "X_train, X_test, y_train, y_test = train_test_split(\n",
    "    features_df.values, \n",
    "    df.is_italian, \n",
    "    test_size=0.2) \n",
    "\n",
    "# the first parameter is our FEATURES. can't just do words_df, it won't work :(\n",
    "# the second parameter is the LABEL as a number (so 0/1, not neg/pos)\n",
    "# 80% training, 20% testing"
   ]
  },
  {
   "cell_type": "markdown",
   "metadata": {},
   "source": [
    "### Step 2.3: Train the classifier"
   ]
  },
  {
   "cell_type": "code",
   "execution_count": 13,
   "metadata": {},
   "outputs": [
    {
     "data": {
      "text/plain": [
       "BernoulliNB(alpha=1.0, binarize=0.0, class_prior=None, fit_prior=True)"
      ]
     },
     "execution_count": 13,
     "metadata": {},
     "output_type": "execute_result"
    }
   ],
   "source": [
    "clf.fit(X_train, y_train)"
   ]
  },
  {
   "cell_type": "markdown",
   "metadata": {},
   "source": [
    "## Testing our classifier\n",
    "\n",
    "Let's test it against the test data!"
   ]
  },
  {
   "cell_type": "code",
   "execution_count": 15,
   "metadata": {},
   "outputs": [
    {
     "data": {
      "text/plain": [
       "0.79057196731615331"
      ]
     },
     "execution_count": 15,
     "metadata": {},
     "output_type": "execute_result"
    }
   ],
   "source": [
    "clf.score(X_test, y_test)"
   ]
  },
  {
   "cell_type": "markdown",
   "metadata": {},
   "source": [
    "And how about the training data?"
   ]
  },
  {
   "cell_type": "code",
   "execution_count": 16,
   "metadata": {},
   "outputs": [
    {
     "data": {
      "text/plain": [
       "0.7897168358527924"
      ]
     },
     "execution_count": 16,
     "metadata": {},
     "output_type": "execute_result"
    }
   ],
   "source": [
    "clf.score(X_train, y_train)"
   ]
  },
  {
   "cell_type": "markdown",
   "metadata": {},
   "source": [
    "# Now it's your turn!\n",
    "\n",
    "At each table, you'll need to\n",
    "\n",
    "* Pick a cuisine (or two, if you'd like!)\n",
    "* Create another label column based on that cuisine\n",
    "* Pick two or three or four or five or more ingredients you think are representative of your cuisine selection\n",
    "* Create another features dataframe using those ingredients\n",
    "* Train and test a classifier\n",
    "\n",
    "Remember that your ingredients can signal the **presence of the cuisine** or the **absense of a cuisine** - if I was doing Japanese food, \"miso\" and \"cheese\" would be good options because they'd point firmly in one direction or the other - \"YES this is japanese\" and \"NO this is not japanese.\""
   ]
  },
  {
   "cell_type": "code",
   "execution_count": 17,
   "metadata": {},
   "outputs": [
    {
     "data": {
      "text/plain": [
       "array(['greek', 'southern_us', 'filipino', 'indian', 'jamaican', 'spanish',\n",
       "       'italian', 'mexican', 'chinese', 'british', 'thai', 'vietnamese',\n",
       "       'cajun_creole', 'brazilian', 'french', 'japanese', 'irish',\n",
       "       'korean', 'moroccan', 'russian'], dtype=object)"
      ]
     },
     "execution_count": 17,
     "metadata": {},
     "output_type": "execute_result"
    }
   ],
   "source": [
    "df.cuisine.unique()"
   ]
  },
  {
   "cell_type": "code",
   "execution_count": 21,
   "metadata": {
    "scrolled": true
   },
   "outputs": [
    {
     "data": {
      "text/html": [
       "<div>\n",
       "<style>\n",
       "    .dataframe thead tr:only-child th {\n",
       "        text-align: right;\n",
       "    }\n",
       "\n",
       "    .dataframe thead th {\n",
       "        text-align: left;\n",
       "    }\n",
       "\n",
       "    .dataframe tbody tr th {\n",
       "        vertical-align: top;\n",
       "    }\n",
       "</style>\n",
       "<table border=\"1\" class=\"dataframe\">\n",
       "  <thead>\n",
       "    <tr style=\"text-align: right;\">\n",
       "      <th></th>\n",
       "      <th>cuisine</th>\n",
       "      <th>id</th>\n",
       "      <th>ingredient_list</th>\n",
       "      <th>is_italian</th>\n",
       "      <th>is_spanish</th>\n",
       "      <th>is_thai</th>\n",
       "    </tr>\n",
       "  </thead>\n",
       "  <tbody>\n",
       "    <tr>\n",
       "      <th>18</th>\n",
       "      <td>thai</td>\n",
       "      <td>2941</td>\n",
       "      <td>sugar, hot chili, asian fish sauce, lime juice</td>\n",
       "      <td>0</td>\n",
       "      <td>0</td>\n",
       "      <td>1</td>\n",
       "    </tr>\n",
       "    <tr>\n",
       "      <th>20</th>\n",
       "      <td>thai</td>\n",
       "      <td>13121</td>\n",
       "      <td>pork loin, roasted peanuts, chopped cilantro f...</td>\n",
       "      <td>0</td>\n",
       "      <td>0</td>\n",
       "      <td>1</td>\n",
       "    </tr>\n",
       "    <tr>\n",
       "      <th>33</th>\n",
       "      <td>thai</td>\n",
       "      <td>33465</td>\n",
       "      <td>eggs, shallots, firm tofu, beansprouts, turnip...</td>\n",
       "      <td>0</td>\n",
       "      <td>0</td>\n",
       "      <td>1</td>\n",
       "    </tr>\n",
       "    <tr>\n",
       "      <th>60</th>\n",
       "      <td>thai</td>\n",
       "      <td>38233</td>\n",
       "      <td>sugar, chicken thighs, cooking oil, fish sauce...</td>\n",
       "      <td>0</td>\n",
       "      <td>0</td>\n",
       "      <td>1</td>\n",
       "    </tr>\n",
       "    <tr>\n",
       "      <th>61</th>\n",
       "      <td>thai</td>\n",
       "      <td>39267</td>\n",
       "      <td>lemongrass, large garlic cloves, rice, unsweet...</td>\n",
       "      <td>0</td>\n",
       "      <td>0</td>\n",
       "      <td>1</td>\n",
       "    </tr>\n",
       "  </tbody>\n",
       "</table>\n",
       "</div>"
      ],
      "text/plain": [
       "   cuisine     id                                    ingredient_list  \\\n",
       "18    thai   2941     sugar, hot chili, asian fish sauce, lime juice   \n",
       "20    thai  13121  pork loin, roasted peanuts, chopped cilantro f...   \n",
       "33    thai  33465  eggs, shallots, firm tofu, beansprouts, turnip...   \n",
       "60    thai  38233  sugar, chicken thighs, cooking oil, fish sauce...   \n",
       "61    thai  39267  lemongrass, large garlic cloves, rice, unsweet...   \n",
       "\n",
       "    is_italian  is_spanish  is_thai  \n",
       "18           0           0        1  \n",
       "20           0           0        1  \n",
       "33           0           0        1  \n",
       "60           0           0        1  \n",
       "61           0           0        1  "
      ]
     },
     "execution_count": 21,
     "metadata": {},
     "output_type": "execute_result"
    }
   ],
   "source": [
    "df['is_thai'] = (df['cuisine'] == 'thai').astype(int)\n",
    "df[df.is_thai == 1].head()"
   ]
  },
  {
   "cell_type": "code",
   "execution_count": 24,
   "metadata": {},
   "outputs": [
    {
     "data": {
      "text/plain": [
       "sweet chili sauce, egg whites, salt, corn starch, lime juice, baking powder, all-purpose flour, water, boneless skinless chicken breasts, cilantro leaves, sesame, cooking oil, garlic, oil                                                                                                                                                   2\n",
       "sugar, reduced sodium soy sauce, freshly ground pepper, fresh lime juice, kosher salt, lime wedges, garlic cloves, fresh basil leaves, fish sauce, steamed rice, vegetable oil, carrots, red chili peppers, low sodium chicken broth, scallions, ground beef                                                                                  2\n",
       "sweet chili sauce, garlic, onions, fish sauce, lime juice, oil, roasted cashews, ground chicken, cilantro leaves, butter lettuce, sweet soy sauce, white sesame seeds                                                                                                                                                                         2\n",
       "jasmine rice, sesame oil, peanut butter, boneless skinless chicken breasts, purple onion, mirin, cilantro, soy sauce, green tomatoes, rice vinegar                                                                                                                                                                                            1\n",
       "fat free less sodium chicken broth, lemongrass, rice vinegar, Thai fish sauce, water, lime wedges, garlic cloves, sliced green onions, Thai chili paste, ground black pepper, chopped onion, chicken thighs, jasmine rice, peeled fresh ginger, baby carrots, chopped cilantro fresh                                                          1\n",
       "lemongrass, garlic, chopped cilantro fresh, fish sauce, prawns, fresh lime juice, kaffir lime leaves, palm sugar, salt, plum tomatoes, jasmine rice, thai chile, galangal                                                                                                                                                                     1\n",
       "water, green onions, cilantro, chili sauce, coconut sugar, peanuts, sesame oil, tamari soy sauce, red bell pepper, lime juice, brown rice, garlic, carrots, sweet chili sauce, chili paste, veggies, sauce, mung bean sprouts                                                                                                                 1\n",
       "shallots, fish sauce, thai chile, lime                                                                                                                                                                                                                                                                                                        1\n",
       "fish sauce, fresh ginger, garlic cloves, cashew nuts, kaffir lime leaves, lime, Thai eggplants, green beans, fresh basil, green curry paste, peanut oil, coconut milk, fresh cilantro, spring onions, corn starch, chicken                                                                                                                    1\n",
       "soy sauce, asparagus, rice vinegar, chopped cilantro fresh, coconut sugar, water, garlic, coconut milk, white onion, baby spinach, carrots, brown basmati rice, coconut oil, fresh ginger, salt, thai green curry paste                                                                                                                       1\n",
       "white onion, ground black pepper, extra-virgin olive oil, white wine, fresh ginger, sea salt, thai green curry paste, lime juice, vegetable oil, hamachi, unsweetened coconut milk, lemongrass, heavy cream, garlic cloves                                                                                                                    1\n",
       "unsweetened coconut milk, jumbo shrimp, green beans, kaffir lime leaves, green curry paste, fresh basil leaves, serrano chilies, salt, light brown sugar, jasmine rice, Thai fish sauce                                                                                                                                                       1\n",
       "reduced sodium soy sauce, sunflower oil, coriander, spring onions, chili sauce, snow peas, rice noodles, firm tofu, masala, fresh ginger root, red pepper, beansprouts                                                                                                                                                                        1\n",
       "soy sauce, peanuts, crushed garlic, oil, coriander, rice sticks, shredded cabbage, salt, beansprouts, chili flakes, tamarind, green onions, firm tofu, chillies, water, palm sugar, purple onion, carrots                                                                                                                                     1\n",
       "jalapeno chilies, garlic, organic low sodium chicken broth, lime, rice noodles, beansprouts, chicken breasts, red bell pepper, fresh ginger, cilantro, coconut milk                                                                                                                                                                           1\n",
       "fish sauce, fresh ginger, vegetable oil, garlic, chopped fresh mint, ground chicken, sliced carrots, mint sprigs, dark brown sugar, chopped cilantro fresh, soy sauce, Sriracha, red pepper flakes, purple onion, cashew nuts, lime zest, lime juice, lime wedges, cilantro, scallions, iceberg lettuce                                       1\n",
       "lime rind, crushed red pepper, chopped fresh mint, fish sauce, shallots, fresh lemon juice, green cabbage, ground turkey breast, grated lemon zest, serrano chile, brown sugar, vegetable oil, fresh lime juice                                                                                                                               1\n",
       "lime zest, coconut oil, green curry paste, jalapeno chilies, garlic, carrots, coconut milk, fish sauce, lime juice, lemon grass, cilantro, purple onion, ramen, onions, kaffir lime leaves, water, thai basil, shallots, oyster mushrooms, ground white pepper, galangal, brown sugar, lemongrass, radishes, thai chile, salt, beansprouts    1\n",
       "kaffir lime leaves, ground black pepper, coconut milk, panang curry paste, kosher salt, basil, fish sauce, boneless skinless chicken breasts, chicken stock, jasmine rice, dark brown sugar                                                                                                                                                   1\n",
       "fresh cilantro, green onions, hot water, cooked chicken breasts, flour tortillas, creamy peanut butter, beansprouts, ground black pepper, salt, red bell pepper, shredded carrots, garlic chili sauce, fresh lime juice                                                                                                                       1\n",
       "caster sugar, spring onions, garlic cloves, tiger prawn, fish sauce, egg noodles, ginger, chillies, lime, red pepper, beansprouts, soy sauce, water chestnuts, oil, coriander                                                                                                                                                                 1\n",
       "chili flakes, fresh coriander, spring onions, rice vinegar, brown sugar, egg noodles, vegetable oil, garlic cloves, fish sauce, lime juice, sesame oil, broccoli, dressing, soy sauce, peeled prawns, red pepper, carrots                                                                                                                     1\n",
       "rice sticks, balsamic vinegar, bok choy, macadamia nuts, napa cabbage, chopped cilantro fresh, fresh basil, green onions, cilantro sprigs, unsweetened coconut milk, olive oil, Thai red curry paste, large shrimp                                                                                                                            1\n",
       "fish sauce, thai basil, minced garlic, bird chile, brown sugar, crushed red pepper flakes, eggplant, onions                                                                                                                                                                                                                                   1\n",
       "soy sauce, peanut oil, noodles, garlic chives, chicken breasts, corn starch, fish sauce, red curry paste, galangal, chicken broth, peanuts, juice                                                                                                                                                                                             1\n",
       "soy sauce, rice noodles, white sugar, eggs, sesame seeds, frozen broccoli, olive oil, crushed red pepper flakes, chopped garlic, dark soy sauce, chilegarlic sauce, chicken fingers                                                                                                                                                           1\n",
       "low-fat coconut milk, mushrooms, garlic, brown sugar, cilantro, red bell pepper, fish sauce, vegetable oil, beef broth, spinach leaves, sirloin, red                                                                                                                                                                                          1\n",
       "butternut squash, lemongrass, coconut milk, red chili peppers, cilantro leaves, lime, onions                                                                                                                                                                                                                                                  1\n",
       "chicken broth, pepper, peanuts, boneless skinless chicken breasts, cilantro, tamarind paste, cumin, soy sauce, curry powder, zucchini, cinnamon, salt, coconut milk, coconut oil, water, garbanzo beans, brown rice, garlic, ginger root, cauliflower flowerets, fresh cilantro, pumpkin purée, paprika, peanut butter, onions                1\n",
       "granulated sugar, coconut milk, sticky rice, jasmine, mango, leaves, salt                                                                                                                                                                                                                                                                     1\n",
       "                                                                                                                                                                                                                                                                                                                                             ..\n",
       "pepper, shredded carrots, light coconut milk, canola oil, peanuts, green onions, garlic cloves, sweet onion, shredded cabbage, salt, sweet chili sauce, flour tortillas, boneless skinless chicken breasts, chopped cilantro fresh                                                                                                            1\n",
       "soy sauce, green onions, corn starch, fresh ginger, oyster sauce, fresh cilantro, garlic cloves, cooking oil, shrimp                                                                                                                                                                                                                          1\n",
       "soy sauce, extra firm tofu, garlic cloves, fresh basil, fresh ginger, vegetable oil, lime juice, sesame oil, red bell pepper, brown sugar, chili paste, broccoli                                                                                                                                                                              1\n",
       "peeled fresh ginger, cilantro leaves, fresh lime juice, fat free less sodium chicken broth, shallots, bird chile, medium shrimp, kaffir lime leaves, cilantro stems, Thai fish sauce, galangal, lemongrass, vegetable oil, arbol chile                                                                                                        1\n",
       "lime zest, lime leaves, lemon zest, lemongrass, soda water                                                                                                                                                                                                                                                                                    1\n",
       "lime, garlic, pork loin chops, crushed red pepper flakes, creamy peanut butter, green onions, rice vinegar, red bell pepper, teriyaki sauce, roasted peanuts                                                                                                                                                                                  1\n",
       "fish sauce, boneless skinless chicken breasts, galangal, chicken stock, lemongrass, juice, kaffir lime leaves, mushrooms, coconut milk, red chili peppers, cilantro leaves                                                                                                                                                                    1\n",
       "coconut oil, thai basil, ginger, green chilies, ground cumin, kaffir lime leaves, lemongrass, shallots, salt, red bell pepper, white pepper, zucchini, garlic, ground coriander, coconut sugar, lime, shoyu, cilantro leaves, coconut milk                                                                                                    1\n",
       "ground black pepper, coconut cream, coconut milk, kosher salt, basil leaves, carrots, onions, lime, veggies, applesauce, fish sauce, mint leaves, beef rib short, thai green curry paste                                                                                                                                                      1\n",
       "ketchup, Tabasco Pepper Sauce, peanut butter, canola oil, brown sugar, minced ginger, garlic, lemon juice, pepper, red wine vinegar, ground coriander, soy sauce, sesame oil, purple onion, hot water                                                                                                                                         1\n",
       "chicken broth, lime juice, flour, garlic, kosher salt, fresh ginger, skinless chicken pieces, peppercorns, mint, olive oil, serrano peppers, peanut butter, curry powder, coriander seeds, green onions                                                                                                                                       1\n",
       "low sodium soy sauce, crushed red pepper, chopped fresh mint, granulated sugar, creamy peanut butter, balsamic vinegar, garlic cloves, brown sugar, salt, chopped cilantro fresh                                                                                                                                                              1\n",
       "broccolini, vegetable stock, cabbage, sweet chili sauce, rice noodles, oil, soy sauce, peanuts, garlic, beans, red capsicum, onions                                                                                                                                                                                                           1\n",
       "palm sugar, peeled fresh ginger, creamy peanut butter, arbol chile, coriander seeds, cooking spray, light coconut milk, Thai fish sauce, low sodium soy sauce, granulated sugar, shallots, cumin seed, fresh lime juice, lemongrass, pork tenderloin, sea salt, garlic cloves, ground turmeric                                                1\n",
       "fresh ginger, tamari soy sauce, fresh lemon juice, water, crushed red pepper flakes, sunflower seed butter, apple cider vinegar, salt, honey, extra-virgin olive oil, garlic cloves                                                                                                                                                           1\n",
       "kirby cucumbers, salt, ground white pepper, jasmine rice, ginger, ground coriander, chile sauce, chicken drumsticks, peanut oil, ground turmeric, shallots, garlic, skinless chicken thighs, ground cumin                                                                                                                                     1\n",
       "coconut oil, shrimp paste, sea salt, galangal, lime zest, coriander seeds, vegetable oil, salt, white peppercorns, green chile, jalapeno chilies, cilantro root, coconut milk, cumin, lemongrass, shallots, garlic, serrano chile                                                                                                             1\n",
       "parsnips, onions, coconut extract, jalape, chopped cilantro fresh, low sodium soy sauce, fresh ginger, chicken thighs, brown sugar, garlic, low-fat milk                                                                                                                                                                                      1\n",
       "lime juice, shredded carrots, sliced mushrooms, fish sauce, lemon grass, green onions, fresh cilantro, celtic salt, curry paste, water, egg noodles, tom yum paste                                                                                                                                                                            1\n",
       "fish sauce, lime, salt, galangal, kaffir lime leaves, lemongrass, cilantro root, chopped cilantro, tofu, sugar, vegetable stock, bird chile, chiles, cherry tomatoes, tamarind paste                                                                                                                                                          1\n",
       "fish sauce, skinless chicken breasts, bamboo shoots, palm sugar, red bell pepper, water, oil, red curry paste, coconut milk                                                                                                                                                                                                                   1\n",
       "fish sauce, lime wedges, chopped fresh mint, calamari, long-grain rice, lime rind, crushed red pepper, sliced green onions, green chile, shallots, fresh lime juice                                                                                                                                                                           1\n",
       "chicken broth, fresh ginger root, red bell pepper, boneless chop pork, garlic, soy sauce, crushed red pepper flakes, honey, creamy peanut butter                                                                                                                                                                                              1\n",
       "slaw, peeled fresh ginger, garlic chili sauce, sliced green onions, fish sauce, flour tortillas, rice vinegar, fresh lime juice, ground black pepper, flank steak, carrots, sugar, cooking spray, garlic cloves, chopped cilantro fresh                                                                                                       1\n",
       "lemongrass, salted peanuts, fresh chile, boneless skinless chicken breasts, coconut milk, nam pla, butter oil, curry powder, salt, chopped cilantro                                                                                                                                                                                           1\n",
       "curry powder, ground red pepper, fresh lime juice, sweet chili sauce, chunky peanut butter, purple onion, chicken breast tenders, cooking spray, peanut oil, lower sodium soy sauce, pineapple, chopped cilantro fresh                                                                                                                        1\n",
       "lime, red pepper, fish sauce, zucchini, carrots, thai basil, cilantro, soy sauce, vegetable oil, fresh mint                                                                                                                                                                                                                                   1\n",
       "green chile, lime, extra firm tofu, cilantro, cumin seed, coconut milk, long beans, soy sauce, thai basil, shallots, garlic, carrots, green bell pepper, coriander seeds, cilantro stems, ginger, scallions, galangal, kaffir lime leaves, straw mushrooms, lemon grass, sesame oil, green chilies, baby corn                                 1\n",
       "baby back ribs, Sriracha, sweet chili sauce, barbecue rub                                                                                                                                                                                                                                                                                     1\n",
       "meatballs, dipping sauces, scallions, bird chile, lime, sea salt, coconut cream, coconut milk, thai basil, ginger, cucumber salad, ground turkey, sugar, lime wedges, rice, oil, ground beef                                                                                                                                                  1\n",
       "Name: ingredient_list, Length: 1536, dtype: int64"
      ]
     },
     "execution_count": 24,
     "metadata": {},
     "output_type": "execute_result"
    }
   ],
   "source": [
    "df[df.is_thai == 1].ingredient_list.value_counts()"
   ]
  },
  {
   "cell_type": "code",
   "execution_count": 37,
   "metadata": {},
   "outputs": [
    {
     "data": {
      "text/html": [
       "<div>\n",
       "<style>\n",
       "    .dataframe thead tr:only-child th {\n",
       "        text-align: right;\n",
       "    }\n",
       "\n",
       "    .dataframe thead th {\n",
       "        text-align: left;\n",
       "    }\n",
       "\n",
       "    .dataframe tbody tr th {\n",
       "        vertical-align: top;\n",
       "    }\n",
       "</style>\n",
       "<table border=\"1\" class=\"dataframe\">\n",
       "  <thead>\n",
       "    <tr style=\"text-align: right;\">\n",
       "      <th></th>\n",
       "      <th>has_cilantro</th>\n",
       "      <th>has_garlic</th>\n",
       "      <th>has_hot_chilli</th>\n",
       "      <th>has_lime</th>\n",
       "    </tr>\n",
       "  </thead>\n",
       "  <tbody>\n",
       "    <tr>\n",
       "      <th>0</th>\n",
       "      <td>0</td>\n",
       "      <td>1</td>\n",
       "      <td>0</td>\n",
       "      <td>0</td>\n",
       "    </tr>\n",
       "    <tr>\n",
       "      <th>1</th>\n",
       "      <td>0</td>\n",
       "      <td>0</td>\n",
       "      <td>0</td>\n",
       "      <td>0</td>\n",
       "    </tr>\n",
       "    <tr>\n",
       "      <th>2</th>\n",
       "      <td>0</td>\n",
       "      <td>1</td>\n",
       "      <td>0</td>\n",
       "      <td>0</td>\n",
       "    </tr>\n",
       "  </tbody>\n",
       "</table>\n",
       "</div>"
      ],
      "text/plain": [
       "   has_cilantro  has_garlic  has_hot_chilli  has_lime\n",
       "0             0           1               0         0\n",
       "1             0           0               0         0\n",
       "2             0           1               0         0"
      ]
     },
     "execution_count": 37,
     "metadata": {},
     "output_type": "execute_result"
    }
   ],
   "source": [
    "features_df2 = pd.DataFrame({\n",
    "#    'has_something': df.ingredient_list.blah blah blah\n",
    "    'has_hot_chilli': df.ingredient_list.str.contains(\"hot chilli\").astype(int),\n",
    "    'has_lime': df.ingredient_list.str.contains(\"lime\").astype(int),\n",
    "    'has_cilantro': df.ingredient_list.str.contains(\"cilantro\").astype(int),\n",
    "    'has_garlic': df.ingredient_list.str.contains(\"garlic\").astype(int)\n",
    "})\n",
    "features_df2.head(3)"
   ]
  },
  {
   "cell_type": "code",
   "execution_count": 38,
   "metadata": {
    "collapsed": true
   },
   "outputs": [],
   "source": [
    "# train_test_split will split our data into two parts\n",
    "from sklearn.model_selection import train_test_split\n",
    "\n",
    "# Splitting into...\n",
    "# X = are all our features\n",
    "# y = are all our labels\n",
    "# X_train are our features to train on (80%)\n",
    "# y_train are our labels to train on (80%)\n",
    "# X_test are our features to test on (20%)\n",
    "# y_train are our labels to test on (20%)\n",
    "\n",
    "X_train, X_test, y_train, y_test = train_test_split(\n",
    "    features_df2.values, \n",
    "    df.is_thai, \n",
    "    test_size=0.2) \n",
    "\n",
    "# the first parameter is our FEATURES. can't just do words_df, it won't work :(\n",
    "# the second parameter is the LABEL as a number (so 0/1, not neg/pos)\n",
    "# 80% training, 20% testing"
   ]
  },
  {
   "cell_type": "code",
   "execution_count": 39,
   "metadata": {},
   "outputs": [
    {
     "data": {
      "text/plain": [
       "BernoulliNB(alpha=1.0, binarize=0.0, class_prior=None, fit_prior=True)"
      ]
     },
     "execution_count": 39,
     "metadata": {},
     "output_type": "execute_result"
    }
   ],
   "source": [
    "clf.fit(X_train, y_train)"
   ]
  },
  {
   "cell_type": "code",
   "execution_count": 40,
   "metadata": {},
   "outputs": [
    {
     "data": {
      "text/plain": [
       "0.93438089252042744"
      ]
     },
     "execution_count": 40,
     "metadata": {},
     "output_type": "execute_result"
    }
   ],
   "source": [
    "clf.score(X_test, y_test)"
   ]
  },
  {
   "cell_type": "code",
   "execution_count": 41,
   "metadata": {},
   "outputs": [
    {
     "data": {
      "text/plain": [
       "0.94016153870329044"
      ]
     },
     "execution_count": 41,
     "metadata": {},
     "output_type": "execute_result"
    }
   ],
   "source": [
    "clf.score(X_train, y_train)"
   ]
  },
  {
   "cell_type": "code",
   "execution_count": 42,
   "metadata": {},
   "outputs": [
    {
     "data": {
      "text/plain": [
       "0    0.961306\n",
       "1    0.038694\n",
       "Name: is_thai, dtype: float64"
      ]
     },
     "execution_count": 42,
     "metadata": {},
     "output_type": "execute_result"
    }
   ],
   "source": [
    "df.is_thai.value_counts(normalize=True)"
   ]
  },
  {
   "cell_type": "code",
   "execution_count": 43,
   "metadata": {},
   "outputs": [
    {
     "data": {
      "text/plain": [
       "0    0.802937\n",
       "1    0.197063\n",
       "Name: is_italian, dtype: float64"
      ]
     },
     "execution_count": 43,
     "metadata": {},
     "output_type": "execute_result"
    }
   ],
   "source": [
    "df.is_italian.value_counts(normalize=True)"
   ]
  },
  {
   "cell_type": "code",
   "execution_count": 46,
   "metadata": {},
   "outputs": [
    {
     "data": {
      "text/plain": [
       "0    38235\n",
       "1     1539\n",
       "Name: is_thai, dtype: int64"
      ]
     },
     "execution_count": 46,
     "metadata": {},
     "output_type": "execute_result"
    }
   ],
   "source": [
    "df.is_thai.value_counts()"
   ]
  },
  {
   "cell_type": "code",
   "execution_count": 48,
   "metadata": {},
   "outputs": [],
   "source": [
    "# Dummy Classifier, always pick the largest amount (only based on quantity)\n",
    "\n",
    "from sklearn.dummy import DummyClassifier\n",
    "\n",
    "clf = DummyClassifier(strategy='constant', constant=1)"
   ]
  },
  {
   "cell_type": "code",
   "execution_count": 49,
   "metadata": {
    "scrolled": true
   },
   "outputs": [
    {
     "data": {
      "text/plain": [
       "DummyClassifier(constant=1, random_state=None, strategy='constant')"
      ]
     },
     "execution_count": 49,
     "metadata": {},
     "output_type": "execute_result"
    }
   ],
   "source": [
    "clf.fit(X_train, y_train)"
   ]
  },
  {
   "cell_type": "code",
   "execution_count": 50,
   "metadata": {},
   "outputs": [
    {
     "data": {
      "text/plain": [
       "0.039094908862350723"
      ]
     },
     "execution_count": 50,
     "metadata": {},
     "output_type": "execute_result"
    }
   ],
   "source": [
    "clf.score(X_test, y_test)"
   ]
  },
  {
   "cell_type": "markdown",
   "metadata": {},
   "source": [
    "## Label Encoders: What if we want more than `is_italian`?\n",
    "\n",
    "A **LabelEncoder** will convert labels to numbers for you.\n",
    "\n",
    "It has has two parts: **fit** and **transform**.\n",
    "\n",
    "* **fit** learns all of the possible labels\n",
    "* **transform** takes a list of categories and converts them into numbers"
   ]
  },
  {
   "cell_type": "code",
   "execution_count": null,
   "metadata": {
    "collapsed": true
   },
   "outputs": [],
   "source": [
    "from sklearn import preprocessing\n",
    "\n",
    "le = preprocessing.LabelEncoder()"
   ]
  },
  {
   "cell_type": "code",
   "execution_count": null,
   "metadata": {
    "collapsed": true
   },
   "outputs": [],
   "source": [
    "# Teach the label encoder all of the possible labels\n",
    "# It doesn't care about duplicates \n",
    "# le.fit(['orange', 'red', 'red', 'red', 'yellow', 'blue'])"
   ]
  },
  {
   "cell_type": "code",
   "execution_count": null,
   "metadata": {
    "collapsed": true
   },
   "outputs": [],
   "source": [
    "# Get the labels out as numbers\n",
    "# le.transform([])"
   ]
  },
  {
   "cell_type": "code",
   "execution_count": null,
   "metadata": {
    "collapsed": true
   },
   "outputs": [],
   "source": [
    "df.cuisine.head(10)"
   ]
  },
  {
   "cell_type": "code",
   "execution_count": null,
   "metadata": {
    "collapsed": true
   },
   "outputs": [],
   "source": [
    "# Send the label encoder each and every cuisine\n"
   ]
  },
  {
   "cell_type": "code",
   "execution_count": null,
   "metadata": {
    "collapsed": true
   },
   "outputs": [],
   "source": [
    "# What does it give back when .transform-d?"
   ]
  },
  {
   "cell_type": "code",
   "execution_count": null,
   "metadata": {
    "collapsed": true
   },
   "outputs": [],
   "source": [
    "# Add it back into the dataframe as cuisine_label\n"
   ]
  },
  {
   "cell_type": "code",
   "execution_count": null,
   "metadata": {
    "collapsed": true
   },
   "outputs": [],
   "source": [
    "# Check value_counts of each to see if they match"
   ]
  },
  {
   "cell_type": "code",
   "execution_count": null,
   "metadata": {
    "collapsed": true
   },
   "outputs": [],
   "source": []
  }
 ],
 "metadata": {
  "kernelspec": {
   "display_name": "Python 3",
   "language": "python",
   "name": "python3"
  },
  "language_info": {
   "codemirror_mode": {
    "name": "ipython",
    "version": 3
   },
   "file_extension": ".py",
   "mimetype": "text/x-python",
   "name": "python",
   "nbconvert_exporter": "python",
   "pygments_lexer": "ipython3",
   "version": "3.6.1"
  }
 },
 "nbformat": 4,
 "nbformat_minor": 2
}
