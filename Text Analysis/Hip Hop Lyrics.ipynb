{
 "cells": [
  {
   "cell_type": "markdown",
   "metadata": {},
   "source": [
    "# Hip hop over time\n",
    "\n",
    "Billboard has a \"R and B / Hip Hop\" list, which is a little absurd because the genres aren't *quite* the same. Let's track the changes over the years.\n",
    "\n",
    "And let's get this out of the way now: **every time you make a vectorizer**, you'll want to ask yourself a few questions.\n",
    "\n",
    "* What kind of vectorizer do you need? CountVectorizer? TfIdf?\n",
    "* If TdIfd, do you use use_idf=True or use_idf=False?\n",
    "* Does your vectorizer require a certain vocabulary?\n",
    "* Do you care about multiple words (\"he said\" vs. \"she said\")? If so, do you need to do something special so it pays attention to that?\n",
    "* Should you lemmatize/stem when you're processing?"
   ]
  },
  {
   "cell_type": "markdown",
   "metadata": {},
   "source": [
    "# Reading in the files\n",
    "\n",
    "## Getting a list of every file we'll want to read in"
   ]
  },
  {
   "cell_type": "code",
   "execution_count": 1,
   "metadata": {},
   "outputs": [
    {
     "data": {
      "text/plain": [
       "['hip-hop/1965/a-change-is-gonna-come-sam-cooke',\n",
       " 'hip-hop/1965/a-lovers-concerto-the-toys',\n",
       " 'hip-hop/1965/a-woman-can-change-a-man-joe-tex',\n",
       " 'hip-hop/1965/a-womans-love-carla-thomas',\n",
       " 'hip-hop/1965/aint-that-peculiar-marvin-gaye']"
      ]
     },
     "execution_count": 1,
     "metadata": {},
     "output_type": "execute_result"
    }
   ],
   "source": [
    "import glob\n",
    "filenames = glob.glob('hip-hop/*/*')\n",
    "filenames[:5]"
   ]
  },
  {
   "cell_type": "markdown",
   "metadata": {},
   "source": [
    "## Reading in the files using a list comprehension"
   ]
  },
  {
   "cell_type": "code",
   "execution_count": 2,
   "metadata": {},
   "outputs": [
    {
     "data": {
      "text/plain": [
       "7458"
      ]
     },
     "execution_count": 2,
     "metadata": {},
     "output_type": "execute_result"
    }
   ],
   "source": [
    "contents = [open(filename).read() for filename in filenames]\n",
    "len(contents)"
   ]
  },
  {
   "cell_type": "markdown",
   "metadata": {},
   "source": [
    "## Use the filenames and the contents to build a dataframe"
   ]
  },
  {
   "cell_type": "code",
   "execution_count": 3,
   "metadata": {},
   "outputs": [
    {
     "data": {
      "text/html": [
       "<div>\n",
       "<style>\n",
       "    .dataframe thead tr:only-child th {\n",
       "        text-align: right;\n",
       "    }\n",
       "\n",
       "    .dataframe thead th {\n",
       "        text-align: left;\n",
       "    }\n",
       "\n",
       "    .dataframe tbody tr th {\n",
       "        vertical-align: top;\n",
       "    }\n",
       "</style>\n",
       "<table border=\"1\" class=\"dataframe\">\n",
       "  <thead>\n",
       "    <tr style=\"text-align: right;\">\n",
       "      <th></th>\n",
       "      <th>filename</th>\n",
       "      <th>lyrics</th>\n",
       "    </tr>\n",
       "  </thead>\n",
       "  <tbody>\n",
       "    <tr>\n",
       "      <th>0</th>\n",
       "      <td>hip-hop/1965/a-change-is-gonna-come-sam-cooke</td>\n",
       "      <td>[Verse 1]\\nI was born by the river\\nIn a littl...</td>\n",
       "    </tr>\n",
       "    <tr>\n",
       "      <th>1</th>\n",
       "      <td>hip-hop/1965/a-lovers-concerto-the-toys</td>\n",
       "      <td>How gentle is the rain\\nThat falls softly on t...</td>\n",
       "    </tr>\n",
       "    <tr>\n",
       "      <th>2</th>\n",
       "      <td>hip-hop/1965/a-woman-can-change-a-man-joe-tex</td>\n",
       "      <td>A man can say what he won't do\\nBut if she rea...</td>\n",
       "    </tr>\n",
       "    <tr>\n",
       "      <th>3</th>\n",
       "      <td>hip-hop/1965/a-womans-love-carla-thomas</td>\n",
       "      <td>When I ask you where you've been\\nDon't get an...</td>\n",
       "    </tr>\n",
       "    <tr>\n",
       "      <th>4</th>\n",
       "      <td>hip-hop/1965/aint-that-peculiar-marvin-gaye</td>\n",
       "      <td>[Verse 1]\\nHoney you do me wrong but still I'm...</td>\n",
       "    </tr>\n",
       "  </tbody>\n",
       "</table>\n",
       "</div>"
      ],
      "text/plain": [
       "                                        filename  \\\n",
       "0  hip-hop/1965/a-change-is-gonna-come-sam-cooke   \n",
       "1        hip-hop/1965/a-lovers-concerto-the-toys   \n",
       "2  hip-hop/1965/a-woman-can-change-a-man-joe-tex   \n",
       "3        hip-hop/1965/a-womans-love-carla-thomas   \n",
       "4    hip-hop/1965/aint-that-peculiar-marvin-gaye   \n",
       "\n",
       "                                              lyrics  \n",
       "0  [Verse 1]\\nI was born by the river\\nIn a littl...  \n",
       "1  How gentle is the rain\\nThat falls softly on t...  \n",
       "2  A man can say what he won't do\\nBut if she rea...  \n",
       "3  When I ask you where you've been\\nDon't get an...  \n",
       "4  [Verse 1]\\nHoney you do me wrong but still I'm...  "
      ]
     },
     "execution_count": 3,
     "metadata": {},
     "output_type": "execute_result"
    }
   ],
   "source": [
    "import pandas as pd\n",
    "\n",
    "df = pd.DataFrame({\n",
    "    'lyrics': contents,\n",
    "    'filename': filenames\n",
    "})\n",
    "df.head()"
   ]
  },
  {
   "cell_type": "markdown",
   "metadata": {},
   "source": [
    "## Extract the year into a different column"
   ]
  },
  {
   "cell_type": "code",
   "execution_count": 4,
   "metadata": {},
   "outputs": [
    {
     "data": {
      "text/html": [
       "<div>\n",
       "<style>\n",
       "    .dataframe thead tr:only-child th {\n",
       "        text-align: right;\n",
       "    }\n",
       "\n",
       "    .dataframe thead th {\n",
       "        text-align: left;\n",
       "    }\n",
       "\n",
       "    .dataframe tbody tr th {\n",
       "        vertical-align: top;\n",
       "    }\n",
       "</style>\n",
       "<table border=\"1\" class=\"dataframe\">\n",
       "  <thead>\n",
       "    <tr style=\"text-align: right;\">\n",
       "      <th></th>\n",
       "      <th>filename</th>\n",
       "      <th>lyrics</th>\n",
       "      <th>year</th>\n",
       "    </tr>\n",
       "  </thead>\n",
       "  <tbody>\n",
       "    <tr>\n",
       "      <th>0</th>\n",
       "      <td>hip-hop/1965/a-change-is-gonna-come-sam-cooke</td>\n",
       "      <td>[Verse 1]\\nI was born by the river\\nIn a littl...</td>\n",
       "      <td>1965</td>\n",
       "    </tr>\n",
       "    <tr>\n",
       "      <th>1</th>\n",
       "      <td>hip-hop/1965/a-lovers-concerto-the-toys</td>\n",
       "      <td>How gentle is the rain\\nThat falls softly on t...</td>\n",
       "      <td>1965</td>\n",
       "    </tr>\n",
       "  </tbody>\n",
       "</table>\n",
       "</div>"
      ],
      "text/plain": [
       "                                        filename  \\\n",
       "0  hip-hop/1965/a-change-is-gonna-come-sam-cooke   \n",
       "1        hip-hop/1965/a-lovers-concerto-the-toys   \n",
       "\n",
       "                                              lyrics  year  \n",
       "0  [Verse 1]\\nI was born by the river\\nIn a littl...  1965  \n",
       "1  How gentle is the rain\\nThat falls softly on t...  1965  "
      ]
     },
     "execution_count": 4,
     "metadata": {},
     "output_type": "execute_result"
    }
   ],
   "source": [
    "# expand=False just gets rid of a warning\n",
    "df['year'] = df.filename.str.extract('hip-hop/(\\d*)/', expand=False)\n",
    "df.head(2)"
   ]
  },
  {
   "cell_type": "markdown",
   "metadata": {},
   "source": [
    "## Use the year to create a datetime column\n",
    "\n",
    "Even though it's a lie, because the billboard charts are weekly. I just didn't save that information!"
   ]
  },
  {
   "cell_type": "code",
   "execution_count": 5,
   "metadata": {},
   "outputs": [
    {
     "data": {
      "text/html": [
       "<div>\n",
       "<style>\n",
       "    .dataframe thead tr:only-child th {\n",
       "        text-align: right;\n",
       "    }\n",
       "\n",
       "    .dataframe thead th {\n",
       "        text-align: left;\n",
       "    }\n",
       "\n",
       "    .dataframe tbody tr th {\n",
       "        vertical-align: top;\n",
       "    }\n",
       "</style>\n",
       "<table border=\"1\" class=\"dataframe\">\n",
       "  <thead>\n",
       "    <tr style=\"text-align: right;\">\n",
       "      <th></th>\n",
       "      <th>filename</th>\n",
       "      <th>lyrics</th>\n",
       "      <th>year</th>\n",
       "      <th>datetime</th>\n",
       "    </tr>\n",
       "  </thead>\n",
       "  <tbody>\n",
       "    <tr>\n",
       "      <th>0</th>\n",
       "      <td>hip-hop/1965/a-change-is-gonna-come-sam-cooke</td>\n",
       "      <td>[Verse 1]\\nI was born by the river\\nIn a littl...</td>\n",
       "      <td>1965</td>\n",
       "      <td>1965-01-01</td>\n",
       "    </tr>\n",
       "    <tr>\n",
       "      <th>1</th>\n",
       "      <td>hip-hop/1965/a-lovers-concerto-the-toys</td>\n",
       "      <td>How gentle is the rain\\nThat falls softly on t...</td>\n",
       "      <td>1965</td>\n",
       "      <td>1965-01-01</td>\n",
       "    </tr>\n",
       "  </tbody>\n",
       "</table>\n",
       "</div>"
      ],
      "text/plain": [
       "                                        filename  \\\n",
       "0  hip-hop/1965/a-change-is-gonna-come-sam-cooke   \n",
       "1        hip-hop/1965/a-lovers-concerto-the-toys   \n",
       "\n",
       "                                              lyrics  year   datetime  \n",
       "0  [Verse 1]\\nI was born by the river\\nIn a littl...  1965 1965-01-01  \n",
       "1  How gentle is the rain\\nThat falls softly on t...  1965 1965-01-01  "
      ]
     },
     "execution_count": 5,
     "metadata": {},
     "output_type": "execute_result"
    }
   ],
   "source": [
    "df['datetime'] = pd.to_datetime(df['year'], format=\"%Y\")\n",
    "df.head(2)"
   ]
  },
  {
   "cell_type": "markdown",
   "metadata": {},
   "source": [
    "## Extract the artist and song name into another column"
   ]
  },
  {
   "cell_type": "code",
   "execution_count": 6,
   "metadata": {},
   "outputs": [
    {
     "data": {
      "text/html": [
       "<div>\n",
       "<style>\n",
       "    .dataframe thead tr:only-child th {\n",
       "        text-align: right;\n",
       "    }\n",
       "\n",
       "    .dataframe thead th {\n",
       "        text-align: left;\n",
       "    }\n",
       "\n",
       "    .dataframe tbody tr th {\n",
       "        vertical-align: top;\n",
       "    }\n",
       "</style>\n",
       "<table border=\"1\" class=\"dataframe\">\n",
       "  <thead>\n",
       "    <tr style=\"text-align: right;\">\n",
       "      <th></th>\n",
       "      <th>filename</th>\n",
       "      <th>lyrics</th>\n",
       "      <th>year</th>\n",
       "      <th>datetime</th>\n",
       "      <th>title-artist</th>\n",
       "    </tr>\n",
       "  </thead>\n",
       "  <tbody>\n",
       "    <tr>\n",
       "      <th>0</th>\n",
       "      <td>hip-hop/1965/a-change-is-gonna-come-sam-cooke</td>\n",
       "      <td>[Verse 1]\\nI was born by the river\\nIn a littl...</td>\n",
       "      <td>1965</td>\n",
       "      <td>1965-01-01</td>\n",
       "      <td>a-change-is-gonna-come-sam-cooke</td>\n",
       "    </tr>\n",
       "    <tr>\n",
       "      <th>1</th>\n",
       "      <td>hip-hop/1965/a-lovers-concerto-the-toys</td>\n",
       "      <td>How gentle is the rain\\nThat falls softly on t...</td>\n",
       "      <td>1965</td>\n",
       "      <td>1965-01-01</td>\n",
       "      <td>a-lovers-concerto-the-toys</td>\n",
       "    </tr>\n",
       "  </tbody>\n",
       "</table>\n",
       "</div>"
      ],
      "text/plain": [
       "                                        filename  \\\n",
       "0  hip-hop/1965/a-change-is-gonna-come-sam-cooke   \n",
       "1        hip-hop/1965/a-lovers-concerto-the-toys   \n",
       "\n",
       "                                              lyrics  year   datetime  \\\n",
       "0  [Verse 1]\\nI was born by the river\\nIn a littl...  1965 1965-01-01   \n",
       "1  How gentle is the rain\\nThat falls softly on t...  1965 1965-01-01   \n",
       "\n",
       "                       title-artist  \n",
       "0  a-change-is-gonna-come-sam-cooke  \n",
       "1        a-lovers-concerto-the-toys  "
      ]
     },
     "execution_count": 6,
     "metadata": {},
     "output_type": "execute_result"
    }
   ],
   "source": [
    "df['title-artist'] = df.filename.str.extract('hip-hop/\\d*/(.*)', expand=False)\n",
    "df.head(2)"
   ]
  },
  {
   "cell_type": "markdown",
   "metadata": {},
   "source": [
    "## Cleaning up a little more\n",
    "\n",
    "Let's get rid of things like `\"[Verse 1]\"` while we're at it."
   ]
  },
  {
   "cell_type": "code",
   "execution_count": 7,
   "metadata": {},
   "outputs": [
    {
     "data": {
      "text/html": [
       "<div>\n",
       "<style>\n",
       "    .dataframe thead tr:only-child th {\n",
       "        text-align: right;\n",
       "    }\n",
       "\n",
       "    .dataframe thead th {\n",
       "        text-align: left;\n",
       "    }\n",
       "\n",
       "    .dataframe tbody tr th {\n",
       "        vertical-align: top;\n",
       "    }\n",
       "</style>\n",
       "<table border=\"1\" class=\"dataframe\">\n",
       "  <thead>\n",
       "    <tr style=\"text-align: right;\">\n",
       "      <th></th>\n",
       "      <th>filename</th>\n",
       "      <th>lyrics</th>\n",
       "      <th>year</th>\n",
       "      <th>datetime</th>\n",
       "      <th>title-artist</th>\n",
       "    </tr>\n",
       "  </thead>\n",
       "  <tbody>\n",
       "    <tr>\n",
       "      <th>0</th>\n",
       "      <td>hip-hop/1965/a-change-is-gonna-come-sam-cooke</td>\n",
       "      <td>I was born by the river\\nIn a little tent\\nAnd...</td>\n",
       "      <td>1965</td>\n",
       "      <td>1965-01-01</td>\n",
       "      <td>a-change-is-gonna-come-sam-cooke</td>\n",
       "    </tr>\n",
       "    <tr>\n",
       "      <th>1</th>\n",
       "      <td>hip-hop/1965/a-lovers-concerto-the-toys</td>\n",
       "      <td>How gentle is the rain\\nThat falls softly on t...</td>\n",
       "      <td>1965</td>\n",
       "      <td>1965-01-01</td>\n",
       "      <td>a-lovers-concerto-the-toys</td>\n",
       "    </tr>\n",
       "  </tbody>\n",
       "</table>\n",
       "</div>"
      ],
      "text/plain": [
       "                                        filename  \\\n",
       "0  hip-hop/1965/a-change-is-gonna-come-sam-cooke   \n",
       "1        hip-hop/1965/a-lovers-concerto-the-toys   \n",
       "\n",
       "                                              lyrics  year   datetime  \\\n",
       "0  I was born by the river\\nIn a little tent\\nAnd...  1965 1965-01-01   \n",
       "1  How gentle is the rain\\nThat falls softly on t...  1965 1965-01-01   \n",
       "\n",
       "                       title-artist  \n",
       "0  a-change-is-gonna-come-sam-cooke  \n",
       "1        a-lovers-concerto-the-toys  "
      ]
     },
     "execution_count": 7,
     "metadata": {},
     "output_type": "execute_result"
    }
   ],
   "source": [
    "df['lyrics'] = df['lyrics'].replace(\"\\[.*?\\]\", \"\", regex=True).str.strip()\n",
    "df.head(2)"
   ]
  },
  {
   "cell_type": "markdown",
   "metadata": {},
   "source": [
    "**OKAY!** We did it. We're done. it's clean. Let's get down to business.\n",
    "\n",
    "# Text analysis\n",
    "\n",
    "What do you want to do?"
   ]
  },
  {
   "cell_type": "code",
   "execution_count": 12,
   "metadata": {},
   "outputs": [
    {
     "data": {
      "text/html": [
       "<div>\n",
       "<style>\n",
       "    .dataframe thead tr:only-child th {\n",
       "        text-align: right;\n",
       "    }\n",
       "\n",
       "    .dataframe thead th {\n",
       "        text-align: left;\n",
       "    }\n",
       "\n",
       "    .dataframe tbody tr th {\n",
       "        vertical-align: top;\n",
       "    }\n",
       "</style>\n",
       "<table border=\"1\" class=\"dataframe\">\n",
       "  <thead>\n",
       "    <tr style=\"text-align: right;\">\n",
       "      <th></th>\n",
       "      <th>gin</th>\n",
       "      <th>patron</th>\n",
       "    </tr>\n",
       "  </thead>\n",
       "  <tbody>\n",
       "    <tr>\n",
       "      <th>0</th>\n",
       "      <td>0</td>\n",
       "      <td>0</td>\n",
       "    </tr>\n",
       "    <tr>\n",
       "      <th>1</th>\n",
       "      <td>0</td>\n",
       "      <td>0</td>\n",
       "    </tr>\n",
       "    <tr>\n",
       "      <th>2</th>\n",
       "      <td>0</td>\n",
       "      <td>0</td>\n",
       "    </tr>\n",
       "    <tr>\n",
       "      <th>3</th>\n",
       "      <td>0</td>\n",
       "      <td>0</td>\n",
       "    </tr>\n",
       "    <tr>\n",
       "      <th>4</th>\n",
       "      <td>0</td>\n",
       "      <td>0</td>\n",
       "    </tr>\n",
       "  </tbody>\n",
       "</table>\n",
       "</div>"
      ],
      "text/plain": [
       "   gin  patron\n",
       "0    0       0\n",
       "1    0       0\n",
       "2    0       0\n",
       "3    0       0\n",
       "4    0       0"
      ]
     },
     "execution_count": 12,
     "metadata": {},
     "output_type": "execute_result"
    }
   ],
   "source": [
    "from sklearn.feature_extraction.text import CountVectorizer\n",
    "\n",
    "# only look for the word \"gin\"\n",
    "vec = CountVectorizer(vocabulary=['gin', 'patron'])\n",
    "\n",
    "matrix = vec.fit_transform(df['lyrics'])\n",
    "\n",
    "results = pd.DataFrame(matrix.toarray(), columns = vec.get_feature_names())\n",
    "results.head()"
   ]
  },
  {
   "cell_type": "code",
   "execution_count": 13,
   "metadata": {},
   "outputs": [
    {
     "data": {
      "text/html": [
       "<div>\n",
       "<style>\n",
       "    .dataframe thead tr:only-child th {\n",
       "        text-align: right;\n",
       "    }\n",
       "\n",
       "    .dataframe thead th {\n",
       "        text-align: left;\n",
       "    }\n",
       "\n",
       "    .dataframe tbody tr th {\n",
       "        vertical-align: top;\n",
       "    }\n",
       "</style>\n",
       "<table border=\"1\" class=\"dataframe\">\n",
       "  <thead>\n",
       "    <tr style=\"text-align: right;\">\n",
       "      <th></th>\n",
       "      <th>filename</th>\n",
       "      <th>lyrics</th>\n",
       "      <th>year</th>\n",
       "      <th>datetime</th>\n",
       "      <th>title-artist</th>\n",
       "      <th>gin</th>\n",
       "      <th>patron</th>\n",
       "    </tr>\n",
       "  </thead>\n",
       "  <tbody>\n",
       "    <tr>\n",
       "      <th>0</th>\n",
       "      <td>hip-hop/1965/a-change-is-gonna-come-sam-cooke</td>\n",
       "      <td>I was born by the river\\nIn a little tent\\nAnd...</td>\n",
       "      <td>1965</td>\n",
       "      <td>1965-01-01</td>\n",
       "      <td>a-change-is-gonna-come-sam-cooke</td>\n",
       "      <td>0</td>\n",
       "      <td>0</td>\n",
       "    </tr>\n",
       "    <tr>\n",
       "      <th>1</th>\n",
       "      <td>hip-hop/1965/a-lovers-concerto-the-toys</td>\n",
       "      <td>How gentle is the rain\\nThat falls softly on t...</td>\n",
       "      <td>1965</td>\n",
       "      <td>1965-01-01</td>\n",
       "      <td>a-lovers-concerto-the-toys</td>\n",
       "      <td>0</td>\n",
       "      <td>0</td>\n",
       "    </tr>\n",
       "    <tr>\n",
       "      <th>2</th>\n",
       "      <td>hip-hop/1965/a-woman-can-change-a-man-joe-tex</td>\n",
       "      <td>A man can say what he won't do\\nBut if she rea...</td>\n",
       "      <td>1965</td>\n",
       "      <td>1965-01-01</td>\n",
       "      <td>a-woman-can-change-a-man-joe-tex</td>\n",
       "      <td>0</td>\n",
       "      <td>0</td>\n",
       "    </tr>\n",
       "    <tr>\n",
       "      <th>3</th>\n",
       "      <td>hip-hop/1965/a-womans-love-carla-thomas</td>\n",
       "      <td>When I ask you where you've been\\nDon't get an...</td>\n",
       "      <td>1965</td>\n",
       "      <td>1965-01-01</td>\n",
       "      <td>a-womans-love-carla-thomas</td>\n",
       "      <td>0</td>\n",
       "      <td>0</td>\n",
       "    </tr>\n",
       "    <tr>\n",
       "      <th>4</th>\n",
       "      <td>hip-hop/1965/aint-that-peculiar-marvin-gaye</td>\n",
       "      <td>Honey you do me wrong but still I'm crazy abou...</td>\n",
       "      <td>1965</td>\n",
       "      <td>1965-01-01</td>\n",
       "      <td>aint-that-peculiar-marvin-gaye</td>\n",
       "      <td>0</td>\n",
       "      <td>0</td>\n",
       "    </tr>\n",
       "  </tbody>\n",
       "</table>\n",
       "</div>"
      ],
      "text/plain": [
       "                                        filename  \\\n",
       "0  hip-hop/1965/a-change-is-gonna-come-sam-cooke   \n",
       "1        hip-hop/1965/a-lovers-concerto-the-toys   \n",
       "2  hip-hop/1965/a-woman-can-change-a-man-joe-tex   \n",
       "3        hip-hop/1965/a-womans-love-carla-thomas   \n",
       "4    hip-hop/1965/aint-that-peculiar-marvin-gaye   \n",
       "\n",
       "                                              lyrics  year   datetime  \\\n",
       "0  I was born by the river\\nIn a little tent\\nAnd...  1965 1965-01-01   \n",
       "1  How gentle is the rain\\nThat falls softly on t...  1965 1965-01-01   \n",
       "2  A man can say what he won't do\\nBut if she rea...  1965 1965-01-01   \n",
       "3  When I ask you where you've been\\nDon't get an...  1965 1965-01-01   \n",
       "4  Honey you do me wrong but still I'm crazy abou...  1965 1965-01-01   \n",
       "\n",
       "                       title-artist  gin  patron  \n",
       "0  a-change-is-gonna-come-sam-cooke    0       0  \n",
       "1        a-lovers-concerto-the-toys    0       0  \n",
       "2  a-woman-can-change-a-man-joe-tex    0       0  \n",
       "3        a-womans-love-carla-thomas    0       0  \n",
       "4    aint-that-peculiar-marvin-gaye    0       0  "
      ]
     },
     "execution_count": 13,
     "metadata": {},
     "output_type": "execute_result"
    }
   ],
   "source": [
    "df['gin'] = results['gin']\n",
    "df['patron'] = results['patron']\n",
    "df.head()"
   ]
  },
  {
   "cell_type": "code",
   "execution_count": 18,
   "metadata": {},
   "outputs": [
    {
     "data": {
      "text/plain": [
       "<matplotlib.axes._subplots.AxesSubplot at 0x10bf23a90>"
      ]
     },
     "execution_count": 18,
     "metadata": {},
     "output_type": "execute_result"
    },
    {
     "data": {
      "image/png": "[encoded data removed]",
      "text/plain": [
       "<matplotlib.figure.Figure at 0x10bfafc88>"
      ]
     },
     "metadata": {},
     "output_type": "display_data"
    }
   ],
   "source": [
    "%matplotlib inline\n",
    "df.groupby('year')['gin'].sum().plot(kind='bar',figsize=(20,4))"
   ]
  },
  {
   "cell_type": "code",
   "execution_count": 19,
   "metadata": {},
   "outputs": [
    {
     "data": {
      "text/plain": [
       "<matplotlib.axes._subplots.AxesSubplot at 0x10c4028d0>"
      ]
     },
     "execution_count": 19,
     "metadata": {},
     "output_type": "execute_result"
    },
    {
     "data": {
      "image/png": "[encoded data removed]",
      "text/plain": [
       "<matplotlib.figure.Figure at 0x10c421b00>"
      ]
     },
     "metadata": {},
     "output_type": "display_data"
    }
   ],
   "source": [
    "df.groupby('year')['patron'].sum().plot(kind='bar',figsize=(20,4))"
   ]
  },
  {
   "cell_type": "markdown",
   "metadata": {},
   "source": [
    "# Read emotional lexicon"
   ]
  },
  {
   "cell_type": "code",
   "execution_count": 20,
   "metadata": {},
   "outputs": [
    {
     "data": {
      "text/html": [
       "<div>\n",
       "<style>\n",
       "    .dataframe thead tr:only-child th {\n",
       "        text-align: right;\n",
       "    }\n",
       "\n",
       "    .dataframe thead th {\n",
       "        text-align: left;\n",
       "    }\n",
       "\n",
       "    .dataframe tbody tr th {\n",
       "        vertical-align: top;\n",
       "    }\n",
       "</style>\n",
       "<table border=\"1\" class=\"dataframe\">\n",
       "  <thead>\n",
       "    <tr style=\"text-align: right;\">\n",
       "      <th>emotion</th>\n",
       "      <th>word</th>\n",
       "      <th>anger</th>\n",
       "      <th>anticipation</th>\n",
       "      <th>disgust</th>\n",
       "      <th>fear</th>\n",
       "      <th>joy</th>\n",
       "      <th>negative</th>\n",
       "      <th>positive</th>\n",
       "      <th>sadness</th>\n",
       "      <th>surprise</th>\n",
       "      <th>trust</th>\n",
       "    </tr>\n",
       "  </thead>\n",
       "  <tbody>\n",
       "    <tr>\n",
       "      <th>0</th>\n",
       "      <td>aback</td>\n",
       "      <td>0</td>\n",
       "      <td>0</td>\n",
       "      <td>0</td>\n",
       "      <td>0</td>\n",
       "      <td>0</td>\n",
       "      <td>0</td>\n",
       "      <td>0</td>\n",
       "      <td>0</td>\n",
       "      <td>0</td>\n",
       "      <td>0</td>\n",
       "    </tr>\n",
       "    <tr>\n",
       "      <th>1</th>\n",
       "      <td>abacus</td>\n",
       "      <td>0</td>\n",
       "      <td>0</td>\n",
       "      <td>0</td>\n",
       "      <td>0</td>\n",
       "      <td>0</td>\n",
       "      <td>0</td>\n",
       "      <td>0</td>\n",
       "      <td>0</td>\n",
       "      <td>0</td>\n",
       "      <td>1</td>\n",
       "    </tr>\n",
       "    <tr>\n",
       "      <th>2</th>\n",
       "      <td>abandon</td>\n",
       "      <td>0</td>\n",
       "      <td>0</td>\n",
       "      <td>0</td>\n",
       "      <td>1</td>\n",
       "      <td>0</td>\n",
       "      <td>1</td>\n",
       "      <td>0</td>\n",
       "      <td>1</td>\n",
       "      <td>0</td>\n",
       "      <td>0</td>\n",
       "    </tr>\n",
       "    <tr>\n",
       "      <th>3</th>\n",
       "      <td>abandoned</td>\n",
       "      <td>1</td>\n",
       "      <td>0</td>\n",
       "      <td>0</td>\n",
       "      <td>1</td>\n",
       "      <td>0</td>\n",
       "      <td>1</td>\n",
       "      <td>0</td>\n",
       "      <td>1</td>\n",
       "      <td>0</td>\n",
       "      <td>0</td>\n",
       "    </tr>\n",
       "    <tr>\n",
       "      <th>4</th>\n",
       "      <td>abandonment</td>\n",
       "      <td>1</td>\n",
       "      <td>0</td>\n",
       "      <td>0</td>\n",
       "      <td>1</td>\n",
       "      <td>0</td>\n",
       "      <td>1</td>\n",
       "      <td>0</td>\n",
       "      <td>1</td>\n",
       "      <td>1</td>\n",
       "      <td>0</td>\n",
       "    </tr>\n",
       "  </tbody>\n",
       "</table>\n",
       "</div>"
      ],
      "text/plain": [
       "emotion         word  anger  anticipation  disgust  fear  joy  negative  \\\n",
       "0              aback      0             0        0     0    0         0   \n",
       "1             abacus      0             0        0     0    0         0   \n",
       "2            abandon      0             0        0     1    0         1   \n",
       "3          abandoned      1             0        0     1    0         1   \n",
       "4        abandonment      1             0        0     1    0         1   \n",
       "\n",
       "emotion  positive  sadness  surprise  trust  \n",
       "0               0        0         0      0  \n",
       "1               0        0         0      1  \n",
       "2               0        1         0      0  \n",
       "3               0        1         0      0  \n",
       "4               0        1         1      0  "
      ]
     },
     "execution_count": 20,
     "metadata": {},
     "output_type": "execute_result"
    }
   ],
   "source": [
    "filepath = \"NRC-Emotion-Lexicon-v0.92/NRC-emotion-lexicon-wordlevel-alphabetized-v0.92.txt\"\n",
    "emolex_df = pd.read_csv(filepath,  names=[\"word\", \"emotion\", \"association\"], skiprows=45, sep='\\t')\n",
    "emolex_df = emolex_df.pivot(index='word', columns='emotion', values='association').reset_index()\n",
    "emolex_df.head()"
   ]
  },
  {
   "cell_type": "code",
   "execution_count": null,
   "metadata": {
    "collapsed": true
   },
   "outputs": [],
   "source": []
  }
 ],
 "metadata": {
  "kernelspec": {
   "display_name": "Python 3",
   "language": "python",
   "name": "python3"
  },
  "language_info": {
   "codemirror_mode": {
    "name": "ipython",
    "version": 3
   },
   "file_extension": ".py",
   "mimetype": "text/x-python",
   "name": "python",
   "nbconvert_exporter": "python",
   "pygments_lexer": "ipython3",
   "version": "3.6.1"
  }
 },
 "nbformat": 4,
 "nbformat_minor": 2
}
